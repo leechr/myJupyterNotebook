{
 "cells": [
  {
   "cell_type": "markdown",
   "metadata": {},
   "source": [
    "### CLASS: Web Scraping with Beautiful Soup"
   ]
  },
  {
   "cell_type": "markdown",
   "metadata": {},
   "source": [
    "What is web scraping?\n",
    "- Extracting information from websites (simulates a human copying and pasting)\n",
    "- Based on finding patterns in website code (usually HTML)\n",
    "\n",
    "What are best practices for web scraping?\n",
    "- Scraping too many pages too fast can get your IP address blocked\n",
    "- Pay attention to the robots exclusion standard (robots.txt)\n",
    "- Let's look at http://www.imdb.com/robots.txt\n",
    "\n",
    "What is HTML?\n",
    "- Code interpreted by a web browser to produce (\"render\") a web page\n",
    "- Let's look at example.html\n",
    "- Tags are opened and closed\n",
    "- Tags have optional attributes\n",
    "\n",
    "How to view HTML code:\n",
    "- To view the entire page: \"View Source\" or \"View Page Source\" or \"Show Page Source\"\n",
    "- To view a specific part: \"Inspect Element\"\n",
    "- Safari users: Safari menu, Preferences, Advanced, Show Develop menu in menu bar\n",
    "- Let's inspect example.html"
   ]
  },
  {
   "cell_type": "code",
   "execution_count": 2,
   "metadata": {},
   "outputs": [
    {
     "name": "stderr",
     "output_type": "stream",
     "text": [
      "C:\\ProgramData\\Anaconda3\\lib\\site-packages\\ipykernel_launcher.py:2: DeprecationWarning: 'U' mode is deprecated\n",
      "  \n"
     ]
    },
    {
     "name": "stdout",
     "output_type": "stream",
     "text": [
      "<!DOCTYPE html>\n",
      "<html lang=\"en\">\n",
      "<head>\n",
      "<title>Example Web Page</title>\n",
      "</head>\n",
      "<body>\n",
      "<h1 id=\"main\">DAT7 Class 7</h1>\n",
      "<p class=\"topic\" id=\"api\">First, we are covering APIs, which are useful for getting data.</p>\n",
      "<p class=\"topic\" id=\"scraping\">Then, we are covering web scraping, which is a more flexible way to get data.</p>\n",
      "<p class=\"topic\" id=\"reproducibility\">Finally, we are covering reproducibility.</p>\n",
      "<h2>Resource List</h2>\n",
      "<p>Here are some helpful API resources:</p>\n",
      "<ul id=\"api\">\n",
      "<li>API resource 1</li>\n",
      "<li>API resource 2</li>\n",
      "</ul>\n",
      "<p>Here are some helpful web scraping resources:</p>\n",
      "<ul id=\"scraping\">\n",
      "<li>Web scraping resource 1</li>\n",
      "<li>Web scraping resource 2</li>\n",
      "</ul>\n",
      "</body>\n",
      "</html>\n",
      "\n",
      "<!DOCTYPE html>\n",
      "<html lang=\"en\">\n",
      " <head>\n",
      "  <title>\n",
      "   Example Web Page\n",
      "  </title>\n",
      " </head>\n",
      " <body>\n",
      "  <h1 id=\"main\">\n",
      "   DAT7 Class 7\n",
      "  </h1>\n",
      "  <p class=\"topic\" id=\"api\">\n",
      "   First, we are covering APIs, which are useful for getting data.\n",
      "  </p>\n",
      "  <p class=\"topic\" id=\"scraping\">\n",
      "   Then, we are covering web scraping, which is a more flexible way to get data.\n",
      "  </p>\n",
      "  <p class=\"topic\" id=\"reproducibility\">\n",
      "   Finally, we are covering reproducibility.\n",
      "  </p>\n",
      "  <h2>\n",
      "   Resource List\n",
      "  </h2>\n",
      "  <p>\n",
      "   Here are some helpful API resources:\n",
      "  </p>\n",
      "  <ul id=\"api\">\n",
      "   <li>\n",
      "    API resource 1\n",
      "   </li>\n",
      "   <li>\n",
      "    API resource 2\n",
      "   </li>\n",
      "  </ul>\n",
      "  <p>\n",
      "   Here are some helpful web scraping resources:\n",
      "  </p>\n",
      "  <ul id=\"scraping\">\n",
      "   <li>\n",
      "    Web scraping resource 1\n",
      "   </li>\n",
      "   <li>\n",
      "    Web scraping resource 2\n",
      "   </li>\n",
      "  </ul>\n",
      " </body>\n",
      "</html>\n",
      "\n",
      "First, we are covering APIs, which are useful for getting data.\n",
      "Then, we are covering web scraping, which is a more flexible way to get data.\n",
      "Finally, we are covering reproducibility.\n",
      "Here are some helpful API resources:\n",
      "Here are some helpful web scraping resources:\n"
     ]
    },
    {
     "name": "stderr",
     "output_type": "stream",
     "text": [
      "C:\\ProgramData\\Anaconda3\\lib\\site-packages\\bs4\\__init__.py:181: UserWarning: No parser was explicitly specified, so I'm using the best available HTML parser for this system (\"lxml\"). This usually isn't a problem, but if you run this code on another system, or in a different virtual environment, it may use a different parser and behave differently.\n",
      "\n",
      "The code that caused this warning is on line 193 of the file C:\\ProgramData\\Anaconda3\\lib\\runpy.py. To get rid of this warning, change code that looks like this:\n",
      "\n",
      " BeautifulSoup(YOUR_MARKUP})\n",
      "\n",
      "to this:\n",
      "\n",
      " BeautifulSoup(YOUR_MARKUP, \"lxml\")\n",
      "\n",
      "  markup_type=markup_type))\n"
     ]
    },
    {
     "data": {
      "text/plain": [
       "[<li>Web scraping resource 1</li>, <li>Web scraping resource 2</li>]"
      ]
     },
     "execution_count": 2,
     "metadata": {},
     "output_type": "execute_result"
    }
   ],
   "source": [
    "# read the HTML code for a web page and save as a string\n",
    "with open('data\\example.html', 'rU') as f:\n",
    "    html = f.read()\n",
    "\n",
    "# convert HTML into a structured Soup object\n",
    "from bs4 import BeautifulSoup\n",
    "b = BeautifulSoup(html)\n",
    "\n",
    "# print out the object\n",
    "print (b)\n",
    "print (b.prettify())\n",
    "\n",
    "# 'find' method returns the first matching Tag (and everything inside of it)\n",
    "b.find(name='body')\n",
    "b.find(name='h1')\n",
    "\n",
    "# Tags allow you to access the 'inside text'\n",
    "b.find(name='h1').text\n",
    "\n",
    "# Tags also allow you to access their attributes\n",
    "b.find(name='h1')['id']\n",
    "\n",
    "# 'find_all' method is useful for finding all matching Tags\n",
    "b.find(name='p')        # returns a Tag\n",
    "b.find_all(name='p')    # returns a ResultSet (like a list of Tags)\n",
    "\n",
    "# ResultSets can be sliced like lists\n",
    "len(b.find_all(name='p'))\n",
    "b.find_all(name='p')[0]\n",
    "b.find_all(name='p')[0].text\n",
    "b.find_all(name='p')[0]['id']\n",
    "\n",
    "# iterate over a ResultSet\n",
    "results = b.find_all(name='p')\n",
    "for tag in results:\n",
    "    print (tag.text)\n",
    "\n",
    "# limit search by Tag attribute\n",
    "b.find(name='p', attrs={'id':'scraping'})\n",
    "b.find_all(name='p', attrs={'class':'topic'})\n",
    "\n",
    "# limit search to specific sections\n",
    "b.find_all(name='li')\n",
    "b.find(name='ul', attrs={'id':'scraping'}).find_all(name='li')\n"
   ]
  },
  {
   "cell_type": "markdown",
   "metadata": {},
   "source": [
    "'''\n",
    "## EXERCISE ONE\n",
    "'''"
   ]
  },
  {
   "cell_type": "code",
   "execution_count": null,
   "metadata": {},
   "outputs": [],
   "source": [
    "# find the 'h2' tag and then print its text\n",
    "b.find(name='h2').text\n",
    "\n",
    "# find the 'p' tag with an 'id' value of 'reproducibility' and then print its text\n",
    "b.find(name='p', attrs={'id':'reproducibility'}).text\n",
    "\n",
    "# find the first 'p' tag and then print the value of the 'id' attribute\n",
    "b.find(name='p')['id']\n",
    "\n",
    "# print the text of all four resources\n",
    "results = b.find_all(name='li')\n",
    "for tag in results:\n",
    "    print tag.text\n",
    "\n",
    "# print the text of only the API resources\n",
    "results = b.find(name='ul', attrs={'id':'api'}).find_all(name='li')\n",
    "for tag in results:\n",
    "    print (tag.text)\n"
   ]
  },
  {
   "cell_type": "markdown",
   "metadata": {},
   "source": [
    "'''\n",
    "# Scraping the IMDb website\n",
    "'''"
   ]
  },
  {
   "cell_type": "code",
   "execution_count": null,
   "metadata": {},
   "outputs": [],
   "source": [
    "# get the HTML from the Shawshank Redemption page\n",
    "import requests\n",
    "r = requests.get('http://www.imdb.com/title/tt0111161/')\n",
    "\n",
    "# convert HTML into Soup\n",
    "b = BeautifulSoup(r.text)\n",
    "print b\n",
    "\n",
    "# run this code if you have encoding errors\n",
    "import sys\n",
    "reload(sys)\n",
    "sys.setdefaultencoding('utf8')\n",
    "\n",
    "# get the title\n",
    "b.find_all(name='span', attrs={'class':'itemprop', 'itemprop':'name'})\n",
    "b.find(name='span', attrs={'class':'itemprop', 'itemprop':'name'}).text\n",
    "b.find(name='h1').find(name='span', attrs={'class':'itemprop', 'itemprop':'name'}).text\n",
    "\n",
    "# get the star rating\n",
    "float(b.find(name='span', attrs={'itemprop':'ratingValue'}).text)\n",
    "float(b.find(name='div', attrs={'class':'titlePageSprite star-box-giga-star'}).text)\n"
   ]
  },
  {
   "cell_type": "markdown",
   "metadata": {},
   "source": [
    "'''\n",
    "## EXERCISE TWO\n",
    "'''"
   ]
  },
  {
   "cell_type": "code",
   "execution_count": null,
   "metadata": {},
   "outputs": [],
   "source": [
    "# get the description\n",
    "b.find(name='p', attrs={'itemprop':'description'}).text.strip()\n",
    "\n",
    "# get the content rating\n",
    "b.find(name='meta', attrs={'itemprop':'contentRating'})['content']\n",
    "\n",
    "# get the duration in minutes (as an integer)\n",
    "int(b.find(name='time', attrs={'itemprop':'duration'})['datetime'][2:-1])\n",
    "int(b.find(name='time', attrs={'itemprop':'duration'}).text.strip()[:-4])"
   ]
  },
  {
   "cell_type": "code",
   "execution_count": null,
   "metadata": {},
   "outputs": [],
   "source": [
    "'''\n",
    "OPTIONAL HOMEWORK\n",
    "\n",
    "First, define a function that accepts an IMDb ID and returns a dictionary of\n",
    "movie information: title, star_rating, description, content_rating, duration.\n",
    "(This is really just a wrapper of the web scraping code we wrote above.)\n",
    "\n",
    "For example, get_movie_info('tt0111161') returns:\n",
    "\n",
    "{'content_rating': 'R',\n",
    " 'description': u'Two imprisoned men bond over a number of years...',\n",
    " 'duration': 142,\n",
    " 'star_rating': 9.3,\n",
    " 'title': u'The Shawshank Redemption'}\n",
    "\n",
    "Then, open the file imdb_ids.txt using Python, and write a for loop that builds\n",
    "a list in which each element is a dictionary of movie information.\n",
    "\n",
    "Finally, convert that list into a DataFrame."
   ]
  },
  {
   "cell_type": "code",
   "execution_count": null,
   "metadata": {},
   "outputs": [],
   "source": [
    "# define a function that accepts an IMDb ID and returns a dictionary of movie information\n",
    "def get_movie_info(imdb_id):\n",
    "    r = requests.get('http://www.imdb.com/title/' + imdb_id + '/')\n",
    "    b = BeautifulSoup(r.text)\n",
    "    info = {}\n",
    "    info['title'] = b.find(name='span', attrs={'class':'itemprop', 'itemprop':'name'}).text\n",
    "    info['star_rating'] = float(b.find(name='span', attrs={'itemprop':'ratingValue'}).text)\n",
    "    info['description'] = b.find(name='p', attrs={'itemprop':'description'}).text.strip()\n",
    "    info['content_rating'] = b.find(name='meta', attrs={'itemprop':'contentRating'})['content']\n",
    "    info['duration'] = int(b.find(name='time', attrs={'itemprop':'duration'})['datetime'][2:-1])\n",
    "    return info\n",
    "\n",
    "# test the function\n",
    "get_movie_info('tt0111161')\n",
    "\n",
    "# open the file of IDs (one ID per row), and store the IDs in a list\n",
    "imdb_ids = []\n",
    "with open('imdb_ids.txt', 'rU') as f:\n",
    "    imdb_ids = [row.strip() for row in f]\n",
    "\n",
    "# get the information for each movie, and store the results in a list\n",
    "from time import sleep\n",
    "movies = []\n",
    "for imdb_id in imdb_ids:\n",
    "    movies.append(get_movie_info(imdb_id))\n",
    "    sleep(1)\n",
    "\n",
    "# check that the list of IDs and list of movies are the same length\n",
    "assert(len(imdb_ids) == len(movies))\n",
    "\n",
    "# convert the list of movies into a DataFrame\n",
    "import pandas as pd\n",
    "pd.DataFrame(movies, index=imdb_ids)"
   ]
  },
  {
   "cell_type": "markdown",
   "metadata": {},
   "source": [
    "\n",
    "# Another IMDb example: Getting the genres\n"
   ]
  },
  {
   "cell_type": "code",
   "execution_count": null,
   "metadata": {},
   "outputs": [],
   "source": [
    "# read the Shawshank Redemption page again\n",
    "r = requests.get('http://www.imdb.com/title/tt0111161/')\n",
    "b = BeautifulSoup(r.text)\n",
    "\n",
    "# only gets the first genre\n",
    "b.find(name='span', attrs={'class':'itemprop', 'itemprop':'genre'})\n",
    "\n",
    "# gets all of the genres\n",
    "b.find_all(name='span', attrs={'class':'itemprop', 'itemprop':'genre'})\n",
    "\n",
    "# stores the genres in a list\n",
    "[tag.text for tag in b.find_all(name='span', attrs={'class':'itemprop', 'itemprop':'genre'})]\n"
   ]
  },
  {
   "cell_type": "markdown",
   "metadata": {},
   "source": [
    "'''\n",
    "# Another IMDb example: Getting the writers\n",
    "'''"
   ]
  },
  {
   "cell_type": "code",
   "execution_count": null,
   "metadata": {},
   "outputs": [],
   "source": [
    "# attempt to get the list of writers (too many results)\n",
    "b.find_all(name='span', attrs={'itemprop':'name'})\n",
    "\n",
    "# limit search to a smaller section to only get the writers\n",
    "b.find(name='div', attrs={'itemprop':'creator'}).find_all(name='span', attrs={'itemprop':'name'})\n"
   ]
  },
  {
   "cell_type": "markdown",
   "metadata": {},
   "source": [
    "\n",
    "'''\n",
    "# Another IMDb example: Getting the URLs of cast images\n",
    "'''\n"
   ]
  },
  {
   "cell_type": "code",
   "execution_count": null,
   "metadata": {},
   "outputs": [],
   "source": [
    "\n",
    "\n",
    "# find the images by size\n",
    "results = b.find_all(name='img', attrs={'height':'44', 'width':'32'})\n",
    "\n",
    "# check that the number of results matches the number of cast images on the page\n",
    "len(results)\n",
    "\n",
    "# iterate over the results to get all URLs\n",
    "for tag in results:\n",
    "    print tag['loadlate']\n"
   ]
  },
  {
   "cell_type": "markdown",
   "metadata": {},
   "source": [
    "\n",
    "'''\n",
    "Useful to know: Alternative Beautiful Soup syntax\n",
    "'''"
   ]
  },
  {
   "cell_type": "code",
   "execution_count": null,
   "metadata": {},
   "outputs": [],
   "source": [
    "\n",
    "# read the example web page again\n",
    "with open('example.html', 'rU') as f:\n",
    "    html = f.read()\n",
    "\n",
    "# convert to Soup\n",
    "b = BeautifulSoup(html)\n",
    "\n",
    "# these are equivalent\n",
    "b.find(name='p')    # normal way\n",
    "b.find('p')         # 'name' is the first argument\n",
    "b.p                 # can also be accessed as an attribute of the object\n",
    "\n",
    "# these are equivalent\n",
    "b.find(name='p', attrs={'id':'scraping'})   # normal way\n",
    "b.find('p', {'id':'scraping'})              # 'name' and 'attrs' are the first two arguments\n",
    "b.find('p', id='scraping')                  # can write the attributes as arguments\n",
    "\n",
    "# these are equivalent\n",
    "b.find(name='p', attrs={'class':'topic'})   # normal way\n",
    "b.find('p', class_='topic')                 # 'class' is special, so it needs a trailing underscore\n",
    "b.find('p', 'topic')                        # if you don't name it, it's assumed to be the class\n",
    "\n",
    "# these are equivalent\n",
    "b.find_all(name='p')    # normal way\n",
    "b.findAll(name='p')     # old function name from Beautiful Soup 3\n",
    "b('p')                  # if you don't name the method, it's assumed to be find_all\n"
   ]
  }
 ],
 "metadata": {
  "kernelspec": {
   "display_name": "Python 3",
   "language": "python",
   "name": "python3"
  },
  "language_info": {
   "codemirror_mode": {
    "name": "ipython",
    "version": 3
   },
   "file_extension": ".py",
   "mimetype": "text/x-python",
   "name": "python",
   "nbconvert_exporter": "python",
   "pygments_lexer": "ipython3",
   "version": "3.6.5"
  },
  "varInspector": {
   "cols": {
    "lenName": 16,
    "lenType": 16,
    "lenVar": 40
   },
   "kernels_config": {
    "python": {
     "delete_cmd_postfix": "",
     "delete_cmd_prefix": "del ",
     "library": "var_list.py",
     "varRefreshCmd": "print(var_dic_list())"
    },
    "r": {
     "delete_cmd_postfix": ") ",
     "delete_cmd_prefix": "rm(",
     "library": "var_list.r",
     "varRefreshCmd": "cat(var_dic_list()) "
    }
   },
   "types_to_exclude": [
    "module",
    "function",
    "builtin_function_or_method",
    "instance",
    "_Feature"
   ],
   "window_display": false
  }
 },
 "nbformat": 4,
 "nbformat_minor": 2
}
